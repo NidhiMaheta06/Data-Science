{
 "cells": [
  {
   "cell_type": "code",
   "execution_count": null,
   "id": "cca5af4b",
   "metadata": {},
   "outputs": [],
   "source": [
    "import pandas as pd\n",
    "import numpy as np\n",
    "import matplotlib.pyplot as plt\n",
    "import seaborn as sns "
   ]
  },
  {
   "cell_type": "code",
   "execution_count": null,
   "id": "e5730728",
   "metadata": {},
   "outputs": [],
   "source": [
    "custom_colors = [\"#023e8a\", \"#0096c7\",\"#90e0ef\",\"#ff5400\",\"#ffbd00\"]\n",
    "customPalette = sns.set_palette(sns.color_palette(custom_colors))"
   ]
  },
  {
   "cell_type": "code",
   "execution_count": null,
   "id": "7ebdb30f",
   "metadata": {},
   "outputs": [],
   "source": [
    "df=pd.read_csv(\"term.csv\")\n",
    "df.head()"
   ]
  },
  {
   "cell_type": "code",
   "execution_count": null,
   "id": "2a2f9b55",
   "metadata": {},
   "outputs": [],
   "source": [
    "df.info()"
   ]
  },
  {
   "cell_type": "code",
   "execution_count": null,
   "id": "77e4d1c7",
   "metadata": {},
   "outputs": [],
   "source": [
    "df.isnull().sum()"
   ]
  },
  {
   "cell_type": "code",
   "execution_count": null,
   "id": "286ee371",
   "metadata": {},
   "outputs": [],
   "source": [
    "df=df.dropna()\n",
    "df.isnull().sum()"
   ]
  },
  {
   "cell_type": "code",
   "execution_count": null,
   "id": "37827497",
   "metadata": {},
   "outputs": [],
   "source": [
    "print('Warehouse_block',df['Warehouse_block'].unique())\n",
    "print('Gender',df['Gender'].unique())\n",
    "print('Mode_of_Shipment',df['Mode_of_Shipment'].unique())\n",
    "print('Customer_rating',df['Customer_rating'].unique())\n",
    "print('Reached.on.Time_Y.N',df['Reached.on.Time_Y.N'].unique())\n",
    "print('Customer_care_calls',df['Customer_care_calls'].unique())"
   ]
  },
  {
   "cell_type": "code",
   "execution_count": null,
   "id": "cbfdb2b7",
   "metadata": {},
   "outputs": [],
   "source": [
    "#Just assigning names to binary values\n",
    "def Reached_yn(i):\n",
    "    if i==0:\n",
    "        return \"On Time\"\n",
    "    return \"Delayed\"\n",
    "df['Reached']=df['Reached.on.Time_Y.N'].apply(Reached_yn)\n",
    "df['Reached']  "
   ]
  },
  {
   "cell_type": "code",
   "execution_count": null,
   "id": "40317e67",
   "metadata": {},
   "outputs": [],
   "source": [
    "df.head()"
   ]
  },
  {
   "cell_type": "code",
   "execution_count": null,
   "id": "7328377e",
   "metadata": {},
   "outputs": [],
   "source": [
    "df.describe()"
   ]
  },
  {
   "cell_type": "code",
   "execution_count": null,
   "id": "07637041",
   "metadata": {},
   "outputs": [],
   "source": [
    "sns.pairplot(df)"
   ]
  },
  {
   "cell_type": "code",
   "execution_count": null,
   "id": "4a383950",
   "metadata": {},
   "outputs": [],
   "source": [
    "df[df['Customer_care_calls']>=5].median()"
   ]
  },
  {
   "cell_type": "markdown",
   "id": "b2317d62",
   "metadata": {},
   "source": [
    "It's observed that Prior_purchases and Discount_offered\tare drastically changes after 75th percentile. Let's analyze more."
   ]
  },
  {
   "cell_type": "code",
   "execution_count": null,
   "id": "0305142d",
   "metadata": {},
   "outputs": [],
   "source": [
    "plt.figure(figsize=(10,5))\n",
    "boxplot = df.boxplot(column=['Prior_purchases','Discount_offered'])"
   ]
  },
  {
   "cell_type": "markdown",
   "id": "59d4e117",
   "metadata": {},
   "source": [
    "Prior purchase and discount offered has some outliers"
   ]
  },
  {
   "cell_type": "code",
   "execution_count": null,
   "id": "857b6d6d",
   "metadata": {},
   "outputs": [],
   "source": [
    "print(df[['Prior_purchases','Discount_offered']].quantile(0.75))\n",
    "print(df[['Prior_purchases','Discount_offered']].quantile(0.80))\n",
    "print(df[['Prior_purchases','Discount_offered']].quantile(0.85))\n",
    "print(df[['Prior_purchases','Discount_offered']].quantile(0.90))\n",
    "print(df[['Prior_purchases','Discount_offered']].quantile(0.95))\n",
    "print(df[['Prior_purchases','Discount_offered']].quantile(0.99))"
   ]
  },
  {
   "cell_type": "code",
   "execution_count": null,
   "id": "7b7a2365",
   "metadata": {},
   "outputs": [],
   "source": [
    "print(len(df[df['Prior_purchases']>=10]))\n",
    "print(len(df[df['Discount_offered']>=20]))"
   ]
  },
  {
   "cell_type": "markdown",
   "id": "f82b4672",
   "metadata": {},
   "source": [
    "Since the count of outliers very less for prior purchase, removing them straight from data. Discount offered having around 15-20% outliers. this needs some treatment. "
   ]
  },
  {
   "cell_type": "markdown",
   "id": "007db458",
   "metadata": {},
   "source": [
    "Considering discount offered 75th percentile value as max\n",
    "and replacing higher discounts with it in below code"
   ]
  },
  {
   "cell_type": "code",
   "execution_count": null,
   "id": "4d8b6927",
   "metadata": {},
   "outputs": [],
   "source": [
    "#df['Discount_offered'].filter(lambda x: '13' if x>=13 else x)\n",
    "df['Discount_offered'].mask(df['Discount_offered']>=13,13,inplace=True)\n",
    "df"
   ]
  },
  {
   "cell_type": "code",
   "execution_count": null,
   "id": "9a7d6022",
   "metadata": {},
   "outputs": [],
   "source": [
    "plt.figure(figsize=(20,6))\n",
    "corr=df.corr()\n",
    "sns.heatmap(corr,annot=True,cmap='BuPu', robust=True, center=0,\n",
    "            square=True, linewidths=.5)\n",
    "\n",
    "plt.title('Correlation between Fields', fontsize=20,font=\"Serif\")\n",
    "plt.show()"
   ]
  },
  {
   "cell_type": "code",
   "execution_count": null,
   "id": "2dcfe491",
   "metadata": {},
   "outputs": [],
   "source": [
    "#number of delayed and on time orders\n",
    "sns.countplot(x='Reached',data=df)\n",
    "pd.concat([df['Reached'] .value_counts(), \n",
    "           df['Reached'] .value_counts(normalize=True).mul(100)],axis=1, \n",
    "          keys=('counts','percentage'))    \n"
   ]
  },
  {
   "cell_type": "markdown",
   "id": "ddada2da",
   "metadata": {},
   "source": [
    "almost around 60% products are getting delayed."
   ]
  },
  {
   "cell_type": "code",
   "execution_count": null,
   "id": "9c29c4a5",
   "metadata": {},
   "outputs": [],
   "source": [
    "#Who purchased more products\n",
    "sns.countplot(x=df['Gender'])\n",
    "df['ID'].groupby(df['Gender']).count()"
   ]
  },
  {
   "cell_type": "code",
   "execution_count": null,
   "id": "6ddc0b79",
   "metadata": {},
   "outputs": [],
   "source": [
    "# creating pivot table to anaylze more\n",
    "shipment=df.loc[:,['Mode_of_Shipment','Reached','Cost_of_the_Product','Weight_in_gms']]\n",
    "shipment\n",
    "table = pd.pivot_table(shipment, index=['Mode_of_Shipment','Reached']\n",
    "        ,values=['Cost_of_the_Product'\n",
    "                 ,'Cost_of_the_Product'\n",
    "                 ,'Weight_in_gms'\n",
    "                 ,'Reached']\n",
    "                 ,aggfunc = {'Cost_of_the_Product':np.sum\n",
    "                            # ,lambda x:x.sum()/shipment['Cost_of_the_Product'].sum()\n",
    "                             ,'Cost_of_the_Product':np.mean\n",
    "                             ,'Weight_in_gms':np.sum\n",
    "                             ,'Reached':np.size}\n",
    "                      )\n",
    "\n",
    "table['% Reached'] = (table.Reached / table.Reached.sum() * 100).astype(str) + '%'\n",
    "table['% Weight'] = (table.Weight_in_gms / table.Weight_in_gms.sum() * 100).astype(str) + '%'\n",
    "table"
   ]
  },
  {
   "cell_type": "markdown",
   "id": "9d1bb5a0",
   "metadata": {},
   "source": [
    "Ships are causing more delay in delivering products but it's also the only mode that is delivery very high weighted products having almost 36.3+31.4= 67.7 %  of weight out of total and 7462 products out of 10999 products"
   ]
  },
  {
   "cell_type": "code",
   "execution_count": null,
   "id": "96995d23",
   "metadata": {},
   "outputs": [],
   "source": [
    "sns.countplot(x='Mode_of_Shipment',hue='Product_importance',data=df)"
   ]
  },
  {
   "cell_type": "markdown",
   "id": "602b5f5b",
   "metadata": {},
   "source": [
    "from above plot, it's clear that Ships are delivering important products in large quantity compared to flight and road. "
   ]
  },
  {
   "cell_type": "code",
   "execution_count": null,
   "id": "a32e9375",
   "metadata": {},
   "outputs": [],
   "source": [
    "#Bivariate analysis - product Weight vs cost based on shipment mode\n",
    "plt.figure(figsize=(8,5))\n",
    "sns.scatterplot(data=df,x='Weight_in_gms',y='Cost_of_the_Product',hue='Mode_of_Shipment')"
   ]
  },
  {
   "cell_type": "code",
   "execution_count": null,
   "id": "5ecf544d",
   "metadata": {},
   "outputs": [],
   "source": [
    "#Bivariate analysis - product Weight vs cost based on importance of product\n",
    "plt.figure(figsize=(8,5))\n",
    "sns.scatterplot(data=df,x='Weight_in_gms',y='Cost_of_the_Product',hue='Product_importance')"
   ]
  },
  {
   "cell_type": "markdown",
   "id": "192575ca",
   "metadata": {},
   "source": [
    "1. 1st scattered plot - It's clearly visible that there are few outliers, products having low cost but very heavy weight, this is happening in ship mode of delivery and one outlier is also for road delivery mode.\n",
    "2. 2nd scattered plot - The outliers belongs to medium importance products."
   ]
  },
  {
   "cell_type": "code",
   "execution_count": null,
   "id": "561ea223",
   "metadata": {},
   "outputs": [],
   "source": [
    "Outliers=df[(df['Cost_of_the_Product']<= 180.0) & (df['Weight_in_gms']>6200.0)]\n",
    "Outliers"
   ]
  },
  {
   "cell_type": "code",
   "execution_count": null,
   "id": "33a104e6",
   "metadata": {},
   "outputs": [],
   "source": [
    "df.drop(df[(df['Cost_of_the_Product']<= 180.0) & (df['Weight_in_gms']>6200.0)].index,inplace=True)"
   ]
  },
  {
   "cell_type": "code",
   "execution_count": null,
   "id": "44a0f5d8",
   "metadata": {},
   "outputs": [],
   "source": [
    "df"
   ]
  },
  {
   "cell_type": "code",
   "execution_count": null,
   "id": "868a1dfe",
   "metadata": {},
   "outputs": [],
   "source": [
    "sns.countplot(x='Customer_rating',hue='Reached',data=df,palette='PiYG')"
   ]
  },
  {
   "cell_type": "code",
   "execution_count": null,
   "id": "29cf966e",
   "metadata": {},
   "outputs": [],
   "source": [
    "#Let's check for more outliers\n",
    "sns.pairplot(df)"
   ]
  },
  {
   "cell_type": "code",
   "execution_count": null,
   "id": "e89857f9",
   "metadata": {},
   "outputs": [],
   "source": [
    "custom_colors = [\"#023e8a\", \"#0096c7\",\"#90e0ef\",\"#ff5400\",\"#ffbd00\"]\n",
    "customPalette = sns.set_palette(sns.color_palette(custom_colors))"
   ]
  },
  {
   "cell_type": "code",
   "execution_count": null,
   "id": "42f75c94",
   "metadata": {},
   "outputs": [],
   "source": [
    "#Which warehouse block is delivering more products and which one delaying \n",
    "sns.countplot(x='Warehouse_block',hue='Reached.on.Time_Y.N',data=df)\n",
    "df['ID'].groupby(df['Warehouse_block']).count()"
   ]
  },
  {
   "cell_type": "code",
   "execution_count": null,
   "id": "29d98e74",
   "metadata": {},
   "outputs": [],
   "source": [
    "def triple_plot(x, title,c):\n",
    "    fig, ax = plt.subplots(3,1,figsize=(20,12),sharex=True)\n",
    "    sns.distplot(x, ax=ax[0],color=c)\n",
    "    ax[0].set(xlabel=None)\n",
    "    ax[0].set_title('Histogram + KDE')\n",
    "    sns.boxplot(x, ax=ax[1],color=c)\n",
    "    ax[1].set(xlabel=None)\n",
    "    ax[1].set_title('Boxplot')\n",
    "    sns.violinplot(x, ax=ax[2],color=c)\n",
    "    ax[2].set(xlabel=None)\n",
    "    ax[2].set_title('Violin plot')\n",
    "    fig.suptitle(title, fontsize=25)\n",
    "    plt.tight_layout(pad=3.0)\n",
    "    plt.show()"
   ]
  },
  {
   "cell_type": "code",
   "execution_count": null,
   "id": "73f6502e",
   "metadata": {},
   "outputs": [],
   "source": [
    "triple_plot(df[\"Cost_of_the_Product\"],'Cost_of_the_Product',custom_colors[0])"
   ]
  },
  {
   "cell_type": "code",
   "execution_count": null,
   "id": "c5dcd6da",
   "metadata": {},
   "outputs": [],
   "source": [
    "# Binary encoding\n",
    "df['Gender'] = df['Gender'].replace({'F': 0, 'M': 1})\n",
    "    \n",
    "# One-hot encoding\n",
    "df=pd.get_dummies(df,columns= ['Mode_of_Shipment','Warehouse_block','Product_importance'])\n",
    "df"
   ]
  },
  {
   "cell_type": "code",
   "execution_count": null,
   "id": "3a5e995b",
   "metadata": {},
   "outputs": [],
   "source": [
    "df.columns"
   ]
  },
  {
   "cell_type": "code",
   "execution_count": null,
   "id": "b557e0c6",
   "metadata": {},
   "outputs": [],
   "source": [
    "X=df[['Customer_care_calls', 'Customer_rating', 'Cost_of_the_Product',\n",
    "       'Prior_purchases', 'Gender', 'Discount_offered', 'Weight_in_gms',\n",
    "       'Mode_of_Shipment_Flight',\n",
    "       'Mode_of_Shipment_Road', 'Mode_of_Shipment_Ship', 'Warehouse_block_A',\n",
    "       'Warehouse_block_B', 'Warehouse_block_C', 'Warehouse_block_D',\n",
    "       'Warehouse_block_F', 'Product_importance_high',\n",
    "       'Product_importance_low', 'Product_importance_medium']]\n",
    "X"
   ]
  },
  {
   "cell_type": "code",
   "execution_count": null,
   "id": "44c78dc8",
   "metadata": {},
   "outputs": [],
   "source": [
    "y=df[['Reached.on.Time_Y.N']]\n",
    "y"
   ]
  },
  {
   "cell_type": "code",
   "execution_count": null,
   "id": "34f08777",
   "metadata": {},
   "outputs": [],
   "source": [
    "from sklearn.model_selection import train_test_split\n",
    "x_train, x_test, y_train, y_test =train_test_split(X, y, test_size=0.2, random_state=0)"
   ]
  },
  {
   "cell_type": "code",
   "execution_count": null,
   "id": "2387bfa9",
   "metadata": {},
   "outputs": [],
   "source": [
    "from sklearn.model_selection import cross_val_score\n",
    "from sklearn.svm import SVC\n",
    "from sklearn import metrics\n",
    "from sklearn.metrics import roc_auc_score , plot_roc_curve, accuracy_score\n",
    "from sklearn.ensemble import AdaBoostClassifier\n",
    "from sklearn.metrics import confusion_matrix \n",
    "from sklearn.tree import DecisionTreeClassifier\n",
    "from sklearn.neighbors import KNeighborsClassifier\n",
    "from sklearn.linear_model import LogisticRegression \n",
    "from sklearn.ensemble import RandomForestClassifier\n",
    "from xgboost import XGBClassifier\n",
    "\n",
    "dt = DecisionTreeClassifier()\n",
    "ad = AdaBoostClassifier()\n",
    "kn = KNeighborsClassifier()\n",
    "lg = LogisticRegression()\n",
    "svm= SVC(random_state = 43, C = 10, gamma = 0.1, kernel ='rbf')\n",
    "rf= RandomForestClassifier()\n",
    "xg = XGBClassifier()\n",
    "#xgb = XGBClassifier(use_label_encoder=False, random_state = 43)\n",
    "\n",
    "models = [ dt,ad, kn, svm,xg,rf,lg]\n",
    "for model in models:\n",
    "    model.fit(x_train, y_train)\n",
    "    y_pred = model.predict(x_test)\n",
    "    scores = cross_val_score(model, X, y, cv=5).mean().round(3)\n",
    "    accuracy = metrics.accuracy_score(y_test, y_pred).round(3)\n",
    "    ROC = metrics.roc_auc_score(y_test, y_pred).round(3)\n",
    "    #f1score = metrics.f1_score(y_test, y_pred).round(3)\n",
    "    print(model, '\\n', 'Accuracy:', accuracy,'\\n', 'mean_CV_score:',scores, '\\n' , 'ROC:', ROC,'\\n')"
   ]
  },
  {
   "cell_type": "code",
   "execution_count": null,
   "id": "983cbd83",
   "metadata": {},
   "outputs": [],
   "source": [
    "ad.feature_importances_  "
   ]
  },
  {
   "cell_type": "code",
   "execution_count": null,
   "id": "23a9a77b",
   "metadata": {},
   "outputs": [],
   "source": [
    "features=x_train.columns\n",
    "importances = ad.feature_importances_\n",
    "indices = np.argsort(importances)\n",
    "\n",
    "plt.figure(1)\n",
    "plt.title('Feature Importances')\n",
    "plt.barh(range(len(indices)), importances[indices], color='b', align='center')\n",
    "plt.yticks(range(len(indices)), features[indices])\n",
    "plt.xlabel('Relative Importance')"
   ]
  },
  {
   "cell_type": "code",
   "execution_count": null,
   "id": "17b04290",
   "metadata": {},
   "outputs": [],
   "source": [
    "features=x_train.columns\n",
    "importances = dt.feature_importances_\n",
    "indices = np.argsort(importances)\n",
    "\n",
    "plt.figure(1)\n",
    "plt.title('Feature Importances')\n",
    "plt.barh(range(len(indices)), importances[indices], color='b', align='center')\n",
    "plt.yticks(range(len(indices)), features[indices])\n",
    "plt.xlabel('Relative Importance')"
   ]
  },
  {
   "cell_type": "code",
   "execution_count": null,
   "id": "7a5431a9",
   "metadata": {},
   "outputs": [],
   "source": [
    "features=x_train.columns\n",
    "importances = xg.feature_importances_\n",
    "indices = np.argsort(importances)\n",
    "\n",
    "plt.figure(1)\n",
    "plt.title('Feature Importances')\n",
    "plt.barh(range(len(indices)), importances[indices], color='b', align='center')\n",
    "plt.yticks(range(len(indices)), features[indices])\n",
    "plt.xlabel('Relative Importance')"
   ]
  },
  {
   "cell_type": "code",
   "execution_count": null,
   "id": "b98f0ea1",
   "metadata": {},
   "outputs": [],
   "source": [
    "from sklearn.decomposition import PCA"
   ]
  },
  {
   "cell_type": "code",
   "execution_count": null,
   "id": "7d48367d",
   "metadata": {},
   "outputs": [],
   "source": [
    "df2=df['Customer_care_calls', 'Customer_rating', 'Cost_of_the_Product',\n",
    "       'Prior_purchases', 'Gender', 'Discount_offered', 'Weight_in_gms',\n",
    "       'Mode_of_Shipment_Flight',\n",
    "       'Mode_of_Shipment_Road', 'Mode_of_Shipment_Ship', 'Warehouse_block_A',\n",
    "       'Warehouse_block_B', 'Warehouse_block_C', 'Warehouse_block_D',\n",
    "       'Warehouse_block_F', 'Product_importance_high',\n",
    "       'Product_importance_low', 'Product_importance_medium']\n",
    "df=df2"
   ]
  },
  {
   "cell_type": "code",
   "execution_count": null,
   "id": "ca96201f",
   "metadata": {},
   "outputs": [],
   "source": [
    "# TODO: Apply PCA by fitting the good data with only two dimensions\n",
    "# Instantiate\n",
    "pca = PCA(n_components=2)\n",
    "pca.fit(df2)\n",
    "\n",
    "# TODO: Transform the good data using the PCA fit above\n",
    "reduced_data = pca.transform(df2)\n",
    "\n",
    "\n",
    "# Create a DataFrame for the reduced data\n",
    "reduced_data = pd.DataFrame(reduced_data, columns = ['Dimension 1', 'Dimension 2'])"
   ]
  },
  {
   "cell_type": "code",
   "execution_count": null,
   "id": "a9f55aeb",
   "metadata": {},
   "outputs": [],
   "source": []
  },
  {
   "cell_type": "code",
   "execution_count": null,
   "id": "21436dd2",
   "metadata": {},
   "outputs": [],
   "source": [
    "from sklearn.preprocessing import StandardScaler\n",
    "scaler = StandardScaler()\n",
    "df2 = scaler.fit_transform(df2)"
   ]
  },
  {
   "cell_type": "code",
   "execution_count": null,
   "id": "f77c7f0b",
   "metadata": {},
   "outputs": [],
   "source": [
    "from sklearn.cluster import KMeans\n",
    "wcss = []\n",
    "for k in range(1,11):\n",
    "    kmeans=KMeans(n_clusters=k, init=\"k-means++\")\n",
    "    kmeans.fit(df2)\n",
    "    wcss.append(kmeans.inertia_)"
   ]
  },
  {
   "cell_type": "code",
   "execution_count": null,
   "id": "651ce133",
   "metadata": {},
   "outputs": [],
   "source": [
    "wcss"
   ]
  },
  {
   "cell_type": "code",
   "execution_count": null,
   "id": "98f52abe",
   "metadata": {},
   "outputs": [],
   "source": [
    "plt.plot(range(1,11),wcss)\n",
    "plt.title(\"Elbow\")\n",
    "plt.show()"
   ]
  },
  {
   "cell_type": "code",
   "execution_count": null,
   "id": "5f1a36fc",
   "metadata": {},
   "outputs": [],
   "source": [
    "kmeans= KMeans(n_clusters=6, init=\"k-means++\")\n",
    "cluster=kmeans.fit_predict(df)\n",
    "cluster"
   ]
  },
  {
   "cell_type": "code",
   "execution_count": null,
   "id": "243938b3",
   "metadata": {},
   "outputs": [],
   "source": [
    "pd.Series(cluster).value_counts()"
   ]
  },
  {
   "cell_type": "code",
   "execution_count": null,
   "id": "a702a76d",
   "metadata": {},
   "outputs": [],
   "source": [
    "df['label']=cluster"
   ]
  },
  {
   "cell_type": "code",
   "execution_count": null,
   "id": "d7878707",
   "metadata": {},
   "outputs": [],
   "source": [
    "df['label'].unique()"
   ]
  },
  {
   "cell_type": "code",
   "execution_count": null,
   "id": "f73ba2dc",
   "metadata": {},
   "outputs": [],
   "source": [
    "from mpl_toolkits import mplot3d\n"
   ]
  },
  {
   "cell_type": "code",
   "execution_count": null,
   "id": "5d31d0d9",
   "metadata": {},
   "outputs": [],
   "source": [
    "fig=plt.figure(figsize=(20,10))\n",
    "ax = fig.add_subplot(111, projection='3d')\n",
    "ax.scatter(df.Prior_purchases[df.label == 0], df[\"Gender\"][df.label == 0], \n",
    "           df[\"Discount_offered\"][df.label == 0], c='blue', s=60)\n",
    "ax.scatter(df.Prior_purchases[df.label == 1], df[\"Gender\"][df.label == 1], \n",
    "           df[\"Discount_offered\"][df.label == 1], c='red', s=60)\n",
    "ax.scatter(df.Prior_purchases[df.label == 2], df[\"Gender\"][df.label == 2], \n",
    "           df[\"Discount_offered\"][df.label == 2], c='green', s=60)\n",
    "\n",
    "ax.view_init(30, 185)\n",
    "\n",
    "plt.show()"
   ]
  },
  {
   "cell_type": "code",
   "execution_count": null,
   "id": "34ca4260",
   "metadata": {},
   "outputs": [],
   "source": []
  }
 ],
 "metadata": {
  "kernelspec": {
   "display_name": "Python 3",
   "language": "python",
   "name": "python3"
  },
  "language_info": {
   "codemirror_mode": {
    "name": "ipython",
    "version": 3
   },
   "file_extension": ".py",
   "mimetype": "text/x-python",
   "name": "python",
   "nbconvert_exporter": "python",
   "pygments_lexer": "ipython3",
   "version": "3.9.5"
  }
 },
 "nbformat": 4,
 "nbformat_minor": 5
}
